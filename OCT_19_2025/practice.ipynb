{
 "cells": [
  {
   "cell_type": "markdown",
   "id": "c511b6ca",
   "metadata": {},
   "source": [
    "Q1.<br>\n",
    "You are given an array arr[] of size n - 1 that contains distinct integers in the range from 1 to n (inclusive)\n",
    "\n",
    "This array represents a permutation of the integers from 1 to n with one element missing \n",
    "\n",
    "Your task is to identify and return the missing element \n",
    "\n",
    "Input: arr[] = [1, 2, 3, 5]\n",
    "Output: 4\n",
    "Explanation: All the numbers from 1 to 5 are present except 4.\n",
    "\n",
    "Understanding:\n",
    "\n",
    "-->permutation of the integers (Order matters)<br>\n",
    "-->n-1 and 1 to n<br>\n",
    "1 to 10 \n",
    "but size is 9 ---> there has to be 1 element missing\n",
    "\n",
    "\n",
    "\n",
    "'''Solution Approach:<br>\n",
    "I know about how range and set difference work , so i applied it , without thinking too much( just imagined)<br>\n",
    "Imagination Looks like --> {1, 2, 3, 4, 5, 6} - {1, 2, 3, 4, 6}--> all will be cancelled one that cant be cancelled is the missing one'''"
   ]
  },
  {
   "cell_type": "code",
   "execution_count": 21,
   "id": "53393801",
   "metadata": {},
   "outputs": [
    {
     "name": "stdout",
     "output_type": "stream",
     "text": [
      "4\n",
      "4\n"
     ]
    }
   ],
   "source": [
    "class MissingNum:\n",
    "\n",
    "    def __init__(self, arr):\n",
    "        self.arr = arr\n",
    "\n",
    "    def missingNum(self):\n",
    "        # code here\n",
    "        n = len(self.arr)+1\n",
    "        one_to_n = set(range(1,n+1))\n",
    "        missing, = one_to_n - set(self.arr)\n",
    "        return missing\n",
    "        \n",
    "        \n",
    "    def missingNum1(self):\n",
    "        n = len(self.arr)+1\n",
    "        one_to_n_sum = sum(range(1,n+1))\n",
    "        arr_sum = sum(self.arr)\n",
    "        missing = one_to_n_sum - arr_sum\n",
    "        return missing\n",
    "    \n",
    "\n",
    "\n",
    "obj = MissingNum([1,2,3,5])\n",
    "\n",
    "\n",
    "print(obj.missingNum())\n",
    "print(obj.missingNum1())\n"
   ]
  },
  {
   "cell_type": "markdown",
   "id": "779f01c1",
   "metadata": {},
   "source": [
    "Q2.<br>\n",
    "Given an array of positive integers arr[], return the second largest element from the array. If the second largest element doesn't exist then return -1.\n",
    "\n",
    "Note: The second largest element should not be equal to the largest element.\n",
    "\n",
    "Examples:\n",
    "\n",
    "Input: arr[] = [12, 35, 1, 10, 34, 1]\n",
    "Output: 34\n",
    "Explanation: The largest element of the array is 35 and the second largest element is 34.\n",
    "\n",
    "\n",
    "Solution:\n",
    "1. sort and find 2nd last---> there can be more cases --> last 5 are equal \n",
    "2. find max , remove it form list , again find the max\n",
    "\n",
    "Edge case: all \n"
   ]
  },
  {
   "cell_type": "code",
   "execution_count": null,
   "id": "05f3562f",
   "metadata": {},
   "outputs": [
    {
     "data": {
      "text/plain": [
       "4"
      ]
     },
     "execution_count": 29,
     "metadata": {},
     "output_type": "execute_result"
    }
   ],
   "source": [
    "class secondLargest:\n",
    "\n",
    "    def __init__(self, arr):\n",
    "        self.arr = arr\n",
    "    \n",
    "    def findSecondLarget(self):\n",
    "        arr = list(set(self.arr))\n",
    "        maxx1 = max(arr)\n",
    "        arr.remove(maxx1)\n",
    "        \n",
    "        if len(arr)==0:\n",
    "            return -1\n",
    "        else:\n",
    "            maxx2 = max(arr)\n",
    "\n",
    "            return maxx2\n",
    "    \n",
    "\n",
    "obj = secondLargest([1,2,3,4,5,4])\n",
    "obj.findSecondLarget()"
   ]
  },
  {
   "cell_type": "code",
   "execution_count": null,
   "id": "23879e70",
   "metadata": {},
   "outputs": [],
   "source": []
  },
  {
   "cell_type": "code",
   "execution_count": null,
   "id": "630a093b",
   "metadata": {},
   "outputs": [],
   "source": []
  }
 ],
 "metadata": {
  "kernelspec": {
   "display_name": "Python 3",
   "language": "python",
   "name": "python3"
  },
  "language_info": {
   "codemirror_mode": {
    "name": "ipython",
    "version": 3
   },
   "file_extension": ".py",
   "mimetype": "text/x-python",
   "name": "python",
   "nbconvert_exporter": "python",
   "pygments_lexer": "ipython3",
   "version": "3.10.18"
  }
 },
 "nbformat": 4,
 "nbformat_minor": 5
}
