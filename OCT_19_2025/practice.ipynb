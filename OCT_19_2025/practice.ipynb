{
 "cells": [
  {
   "cell_type": "markdown",
   "id": "c511b6ca",
   "metadata": {},
   "source": [
    "Q1.<br>\n",
    "You are given an array arr[] of size n - 1 that contains distinct integers in the range from 1 to n (inclusive)\n",
    "\n",
    "This array represents a permutation of the integers from 1 to n with one element missing \n",
    "\n",
    "Your task is to identify and return the missing element \n",
    "\n",
    "Input: arr[] = [1, 2, 3, 5]\n",
    "Output: 4\n",
    "Explanation: All the numbers from 1 to 5 are present except 4.\n",
    "\n",
    "Understanding:\n",
    "\n",
    "-->permutation of the integers (Order matters)<br>\n",
    "-->n-1 and 1 to n<br>\n",
    "1 to 10 \n",
    "but size is 9 ---> there has to be 1 element missing\n",
    "\n",
    "\n",
    "\n",
    "'''Solution Approach:<br>\n",
    "I know about how range and set difference work , so i applied it , without thinking too much( just imagined)<br>\n",
    "Imagination Looks like --> {1, 2, 3, 4, 5, 6} - {1, 2, 3, 4, 6}--> all will be cancelled one that cant be cancelled is the missing one'''"
   ]
  },
  {
   "cell_type": "code",
   "execution_count": 21,
   "id": "53393801",
   "metadata": {},
   "outputs": [
    {
     "name": "stdout",
     "output_type": "stream",
     "text": [
      "4\n",
      "4\n"
     ]
    }
   ],
   "source": [
    "class MissingNum:\n",
    "\n",
    "    def __init__(self, arr):\n",
    "        self.arr = arr\n",
    "\n",
    "    def missingNum(self):\n",
    "        # code here\n",
    "        n = len(self.arr)+1\n",
    "        one_to_n = set(range(1,n+1))\n",
    "        missing, = one_to_n - set(self.arr)\n",
    "        return missing\n",
    "        \n",
    "        \n",
    "    def missingNum1(self):\n",
    "        n = len(self.arr)+1\n",
    "        one_to_n_sum = sum(range(1,n+1))\n",
    "        arr_sum = sum(self.arr)\n",
    "        missing = one_to_n_sum - arr_sum\n",
    "        return missing\n",
    "    \n",
    "\n",
    "\n",
    "obj = MissingNum([1,2,3,5])\n",
    "\n",
    "\n",
    "print(obj.missingNum())\n",
    "print(obj.missingNum1())\n"
   ]
  },
  {
   "cell_type": "markdown",
   "id": "779f01c1",
   "metadata": {},
   "source": [
    "Q2.<br>\n",
    "Given an array of positive integers arr[], return the second largest element from the array. If the second largest element doesn't exist then return -1.\n",
    "\n",
    "Note: The second largest element should not be equal to the largest element.\n",
    "\n",
    "Examples:\n",
    "\n",
    "Input: arr[] = [12, 35, 1, 10, 34, 1]\n",
    "Output: 34\n",
    "Explanation: The largest element of the array is 35 and the second largest element is 34.\n",
    "\n",
    "\n",
    "Solution:\n",
    "1. sort and find 2nd last---> there can be more cases --> last 5 are equal so take set\n",
    "2. find max , remove it form list , again find the max\n",
    "3. to not get same element as second largest as max take set , if len of set is 1 means all elements are equal and largest and second largest are same , so return -1, \n",
    "\n",
    "Edge case: all \n",
    "\n",
    "\n"
   ]
  },
  {
   "cell_type": "code",
   "execution_count": 31,
   "id": "05f3562f",
   "metadata": {},
   "outputs": [
    {
     "name": "stdout",
     "output_type": "stream",
     "text": [
      "4\n",
      "4\n"
     ]
    }
   ],
   "source": [
    "class secondLargest:\n",
    "\n",
    "    def __init__(self, arr):\n",
    "        self.arr = arr\n",
    "    \n",
    "    def findSecondLarget(self):\n",
    "        arr = list(set(self.arr))\n",
    "        maxx1 = max(arr)\n",
    "        arr.remove(maxx1)\n",
    "        \n",
    "        if len(arr)==0:\n",
    "            return -1\n",
    "        else:\n",
    "            maxx2 = max(arr)\n",
    "\n",
    "            return maxx2\n",
    "    \n",
    "    def findsecondlargest(self):\n",
    "        arr = list(set(self.arr))\n",
    "        arr = sorted(arr)\n",
    "        if len(arr)==1:\n",
    "            return -1\n",
    "        else:\n",
    "            return arr[-2]\n",
    "    \n",
    "\n",
    "obj = secondLargest([1,2,3,4,5,4])\n",
    "print(obj.findSecondLarget())\n",
    "print(obj.findsecondlargest())"
   ]
  },
  {
   "cell_type": "markdown",
   "id": "8e0843e8",
   "metadata": {},
   "source": [
    "Q3.\n",
    "Given an array arr[] containing only non-negative integers, your task is to find a continuous subarray (a contiguous sequence of elements)\n",
    "whose sum equals a specified value target. You need to return the 1-based indices of the leftmost and rightmost elements of this subarray.\n",
    "You need to find the first subarray whose sum is equal to the target.\n",
    "\n",
    "Note: If no such array is possible then, return [-1].\n",
    "\n",
    "Examples:\n",
    "\n",
    "Input: arr[] = [1, 2, 3, 7, 5], target = 12<br>\n",
    "Output: [2, 4]<br>\n",
    "Explanation: The sum of elements from 2nd to 4th position is 12.\n",
    "\n",
    "\n",
    "I know the solution logically but dont know where to start , how to start\n",
    "\n",
    "\n",
    "there is one fixed starting point , now extend the subarray till get the target or less than target\n",
    "if exceed the target , change the starting point and repeat the same\n",
    "\n",
    "how to do it\n",
    "\n",
    "there is a for loop which change start point , whenever condition fails\n",
    "there is a for loop , which extend the subarray sum till sum equals to target or less than target , if greateer than target stop sum further\n"
   ]
  },
  {
   "cell_type": "code",
   "execution_count": 42,
   "id": "3bcb9590",
   "metadata": {},
   "outputs": [
    {
     "name": "stdout",
     "output_type": "stream",
     "text": [
      "[3, 5]\n"
     ]
    }
   ],
   "source": [
    "class subarraysum:\n",
    "    def __init__(self, arr, target):\n",
    "        self.arr = arr\n",
    "        self.target = target\n",
    "    \n",
    "    def findSubarrayIndices(self):\n",
    "        arr = self.arr\n",
    "        target = self.target\n",
    "        for i in range(len(arr)):\n",
    "            sum = arr[i]\n",
    "            if sum == target:\n",
    "                return [i, i]\n",
    "            for j in range(i+1, len(arr)):\n",
    "                sum = sum + arr[j]\n",
    "                if sum == target:\n",
    "                    return [i+1, j+1]\n",
    "                elif sum < target:\n",
    "                    continue\n",
    "                else:\n",
    "                    break\n",
    "\n",
    "\n",
    "obj = subarraysum([1,2,3,4,5,6,7],12)\n",
    "print(obj.findSubarrayIndices())"
   ]
  },
  {
   "cell_type": "code",
   "execution_count": null,
   "id": "930e7794",
   "metadata": {},
   "outputs": [],
   "source": []
  }
 ],
 "metadata": {
  "kernelspec": {
   "display_name": "Python 3",
   "language": "python",
   "name": "python3"
  },
  "language_info": {
   "codemirror_mode": {
    "name": "ipython",
    "version": 3
   },
   "file_extension": ".py",
   "mimetype": "text/x-python",
   "name": "python",
   "nbconvert_exporter": "python",
   "pygments_lexer": "ipython3",
   "version": "3.10.18"
  }
 },
 "nbformat": 4,
 "nbformat_minor": 5
}
